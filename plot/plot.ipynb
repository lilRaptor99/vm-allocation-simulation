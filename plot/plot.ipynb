{
 "cells": [
  {
   "cell_type": "code",
   "execution_count": 49,
   "outputs": [],
   "source": [
    "import pandas as pd\n",
    "import plotly.graph_objs as go"
   ],
   "metadata": {
    "collapsed": false,
    "ExecuteTime": {
     "end_time": "2024-09-22T04:00:40.530159800Z",
     "start_time": "2024-09-22T04:00:40.482529Z"
    }
   }
  },
  {
   "cell_type": "code",
   "execution_count": 50,
   "outputs": [],
   "source": [
    "allocation_policies = ['4DBinPacking', 'BestFit', 'FirstFit', 'Simple', 'RoundRobin']\n",
    "host_configs = [5, 10, 20, 40, 80, 100, 200, 500, 1000]\n",
    "random_seed_configs = range(1, 11)"
   ],
   "metadata": {
    "collapsed": false,
    "ExecuteTime": {
     "end_time": "2024-09-22T04:00:40.548399700Z",
     "start_time": "2024-09-22T04:00:40.490537Z"
    }
   }
  },
  {
   "cell_type": "code",
   "execution_count": 51,
   "outputs": [
    {
     "name": "stdout",
     "output_type": "stream",
     "text": [
      "File not found: VmAllocationPolicy4DBinPacking_hosts_20_6.csv\n",
      "File not found: VmAllocationPolicy4DBinPacking_hosts_20_7.csv\n",
      "File not found: VmAllocationPolicy4DBinPacking_hosts_20_8.csv\n",
      "File not found: VmAllocationPolicy4DBinPacking_hosts_20_9.csv\n",
      "File not found: VmAllocationPolicy4DBinPacking_hosts_20_10.csv\n",
      "File not found: VmAllocationPolicy4DBinPacking_hosts_40_1.csv\n",
      "File not found: VmAllocationPolicy4DBinPacking_hosts_40_2.csv\n",
      "File not found: VmAllocationPolicy4DBinPacking_hosts_40_3.csv\n",
      "File not found: VmAllocationPolicy4DBinPacking_hosts_40_4.csv\n",
      "File not found: VmAllocationPolicy4DBinPacking_hosts_40_5.csv\n",
      "File not found: VmAllocationPolicy4DBinPacking_hosts_40_6.csv\n",
      "File not found: VmAllocationPolicy4DBinPacking_hosts_40_7.csv\n",
      "File not found: VmAllocationPolicy4DBinPacking_hosts_40_8.csv\n",
      "File not found: VmAllocationPolicy4DBinPacking_hosts_40_9.csv\n",
      "File not found: VmAllocationPolicy4DBinPacking_hosts_40_10.csv\n",
      "WARN: Host count - 40 not available for - 4DBinPacking policy\n",
      "File not found: VmAllocationPolicy4DBinPacking_hosts_80_1.csv\n",
      "File not found: VmAllocationPolicy4DBinPacking_hosts_80_2.csv\n",
      "File not found: VmAllocationPolicy4DBinPacking_hosts_80_3.csv\n",
      "File not found: VmAllocationPolicy4DBinPacking_hosts_80_4.csv\n",
      "File not found: VmAllocationPolicy4DBinPacking_hosts_80_5.csv\n",
      "File not found: VmAllocationPolicy4DBinPacking_hosts_80_6.csv\n",
      "File not found: VmAllocationPolicy4DBinPacking_hosts_80_7.csv\n",
      "File not found: VmAllocationPolicy4DBinPacking_hosts_80_8.csv\n",
      "File not found: VmAllocationPolicy4DBinPacking_hosts_80_9.csv\n",
      "File not found: VmAllocationPolicy4DBinPacking_hosts_80_10.csv\n",
      "WARN: Host count - 80 not available for - 4DBinPacking policy\n",
      "File not found: VmAllocationPolicy4DBinPacking_hosts_100_1.csv\n",
      "File not found: VmAllocationPolicy4DBinPacking_hosts_100_2.csv\n",
      "File not found: VmAllocationPolicy4DBinPacking_hosts_100_3.csv\n",
      "File not found: VmAllocationPolicy4DBinPacking_hosts_100_4.csv\n",
      "File not found: VmAllocationPolicy4DBinPacking_hosts_100_5.csv\n",
      "File not found: VmAllocationPolicy4DBinPacking_hosts_100_6.csv\n",
      "File not found: VmAllocationPolicy4DBinPacking_hosts_100_7.csv\n",
      "File not found: VmAllocationPolicy4DBinPacking_hosts_100_8.csv\n",
      "File not found: VmAllocationPolicy4DBinPacking_hosts_100_9.csv\n",
      "File not found: VmAllocationPolicy4DBinPacking_hosts_100_10.csv\n",
      "WARN: Host count - 100 not available for - 4DBinPacking policy\n",
      "File not found: VmAllocationPolicy4DBinPacking_hosts_200_1.csv\n",
      "File not found: VmAllocationPolicy4DBinPacking_hosts_200_2.csv\n",
      "File not found: VmAllocationPolicy4DBinPacking_hosts_200_3.csv\n",
      "File not found: VmAllocationPolicy4DBinPacking_hosts_200_4.csv\n",
      "File not found: VmAllocationPolicy4DBinPacking_hosts_200_5.csv\n",
      "File not found: VmAllocationPolicy4DBinPacking_hosts_200_6.csv\n",
      "File not found: VmAllocationPolicy4DBinPacking_hosts_200_7.csv\n",
      "File not found: VmAllocationPolicy4DBinPacking_hosts_200_8.csv\n",
      "File not found: VmAllocationPolicy4DBinPacking_hosts_200_9.csv\n",
      "File not found: VmAllocationPolicy4DBinPacking_hosts_200_10.csv\n",
      "WARN: Host count - 200 not available for - 4DBinPacking policy\n",
      "File not found: VmAllocationPolicy4DBinPacking_hosts_500_1.csv\n",
      "File not found: VmAllocationPolicy4DBinPacking_hosts_500_2.csv\n",
      "File not found: VmAllocationPolicy4DBinPacking_hosts_500_3.csv\n",
      "File not found: VmAllocationPolicy4DBinPacking_hosts_500_4.csv\n",
      "File not found: VmAllocationPolicy4DBinPacking_hosts_500_5.csv\n",
      "File not found: VmAllocationPolicy4DBinPacking_hosts_500_6.csv\n",
      "File not found: VmAllocationPolicy4DBinPacking_hosts_500_7.csv\n",
      "File not found: VmAllocationPolicy4DBinPacking_hosts_500_8.csv\n",
      "File not found: VmAllocationPolicy4DBinPacking_hosts_500_9.csv\n",
      "File not found: VmAllocationPolicy4DBinPacking_hosts_500_10.csv\n",
      "WARN: Host count - 500 not available for - 4DBinPacking policy\n",
      "File not found: VmAllocationPolicy4DBinPacking_hosts_1000_1.csv\n",
      "File not found: VmAllocationPolicy4DBinPacking_hosts_1000_2.csv\n",
      "File not found: VmAllocationPolicy4DBinPacking_hosts_1000_3.csv\n",
      "File not found: VmAllocationPolicy4DBinPacking_hosts_1000_4.csv\n",
      "File not found: VmAllocationPolicy4DBinPacking_hosts_1000_5.csv\n",
      "File not found: VmAllocationPolicy4DBinPacking_hosts_1000_6.csv\n",
      "File not found: VmAllocationPolicy4DBinPacking_hosts_1000_7.csv\n",
      "File not found: VmAllocationPolicy4DBinPacking_hosts_1000_8.csv\n",
      "File not found: VmAllocationPolicy4DBinPacking_hosts_1000_9.csv\n",
      "File not found: VmAllocationPolicy4DBinPacking_hosts_1000_10.csv\n",
      "WARN: Host count - 1000 not available for - 4DBinPacking policy\n"
     ]
    },
    {
     "data": {
      "application/vnd.plotly.v1+json": {
       "data": [
        {
         "mode": "lines+markers",
         "name": "4DBinPacking",
         "x": [
          5.0,
          10.0,
          20.0
         ],
         "y": [
          1.047802564102564,
          2441.5101147058826,
          2858.154237931035
         ],
         "type": "scatter"
        },
        {
         "mode": "lines+markers",
         "name": "BestFit",
         "x": [
          5.0,
          10.0,
          20.0,
          40.0,
          80.0,
          100.0,
          200.0,
          500.0,
          1000.0
         ],
         "y": [
          0.03838237623762377,
          0.035394736842105264,
          0.03950943025540275,
          0.06202754607177498,
          0.09193407984420643,
          0.10912065637065638,
          0.23238133462282398,
          0.4887584942084942,
          1.1553956689124159
         ],
         "type": "scatter"
        },
        {
         "mode": "lines+markers",
         "name": "FirstFit",
         "x": [
          5.0,
          10.0,
          20.0,
          40.0,
          80.0,
          100.0,
          200.0,
          500.0,
          1000.0
         ],
         "y": [
          0.005774975369458128,
          0.0038098039215686275,
          0.0033581213307240705,
          0.002647181008902077,
          0.0031984390243902437,
          0.003200197433366239,
          0.002552785923753666,
          0.00244390243902439,
          0.002243343051506317
         ],
         "type": "scatter"
        },
        {
         "mode": "lines+markers",
         "name": "Simple",
         "x": [
          5.0,
          10.0,
          20.0,
          40.0,
          80.0,
          100.0,
          200.0,
          500.0,
          1000.0
         ],
         "y": [
          0.010345812807881775,
          0.019173699705593718,
          0.03124258893280632,
          0.04576061814556331,
          0.09504402764067127,
          0.10487645895153314,
          0.19106538461538464,
          0.505519028741328,
          1.2617232142857142
         ],
         "type": "scatter"
        },
        {
         "mode": "lines+markers",
         "name": "RoundRobin",
         "x": [
          5.0,
          10.0,
          20.0,
          40.0,
          80.0,
          100.0,
          200.0,
          500.0,
          1000.0
         ],
         "y": [
          0.003185939036381514,
          0.0017887585532746825,
          0.0021014619883040933,
          0.0022399009900990097,
          0.0019377097729516288,
          0.0016363366336633663,
          0.0018543111992071358,
          0.0025201189296333,
          0.0020807348560079445
         ],
         "type": "scatter"
        }
       ],
       "layout": {
        "template": {
         "data": {
          "histogram2dcontour": [
           {
            "type": "histogram2dcontour",
            "colorbar": {
             "outlinewidth": 0,
             "ticks": ""
            },
            "colorscale": [
             [
              0.0,
              "#0d0887"
             ],
             [
              0.1111111111111111,
              "#46039f"
             ],
             [
              0.2222222222222222,
              "#7201a8"
             ],
             [
              0.3333333333333333,
              "#9c179e"
             ],
             [
              0.4444444444444444,
              "#bd3786"
             ],
             [
              0.5555555555555556,
              "#d8576b"
             ],
             [
              0.6666666666666666,
              "#ed7953"
             ],
             [
              0.7777777777777778,
              "#fb9f3a"
             ],
             [
              0.8888888888888888,
              "#fdca26"
             ],
             [
              1.0,
              "#f0f921"
             ]
            ]
           }
          ],
          "choropleth": [
           {
            "type": "choropleth",
            "colorbar": {
             "outlinewidth": 0,
             "ticks": ""
            }
           }
          ],
          "histogram2d": [
           {
            "type": "histogram2d",
            "colorbar": {
             "outlinewidth": 0,
             "ticks": ""
            },
            "colorscale": [
             [
              0.0,
              "#0d0887"
             ],
             [
              0.1111111111111111,
              "#46039f"
             ],
             [
              0.2222222222222222,
              "#7201a8"
             ],
             [
              0.3333333333333333,
              "#9c179e"
             ],
             [
              0.4444444444444444,
              "#bd3786"
             ],
             [
              0.5555555555555556,
              "#d8576b"
             ],
             [
              0.6666666666666666,
              "#ed7953"
             ],
             [
              0.7777777777777778,
              "#fb9f3a"
             ],
             [
              0.8888888888888888,
              "#fdca26"
             ],
             [
              1.0,
              "#f0f921"
             ]
            ]
           }
          ],
          "heatmap": [
           {
            "type": "heatmap",
            "colorbar": {
             "outlinewidth": 0,
             "ticks": ""
            },
            "colorscale": [
             [
              0.0,
              "#0d0887"
             ],
             [
              0.1111111111111111,
              "#46039f"
             ],
             [
              0.2222222222222222,
              "#7201a8"
             ],
             [
              0.3333333333333333,
              "#9c179e"
             ],
             [
              0.4444444444444444,
              "#bd3786"
             ],
             [
              0.5555555555555556,
              "#d8576b"
             ],
             [
              0.6666666666666666,
              "#ed7953"
             ],
             [
              0.7777777777777778,
              "#fb9f3a"
             ],
             [
              0.8888888888888888,
              "#fdca26"
             ],
             [
              1.0,
              "#f0f921"
             ]
            ]
           }
          ],
          "heatmapgl": [
           {
            "type": "heatmapgl",
            "colorbar": {
             "outlinewidth": 0,
             "ticks": ""
            },
            "colorscale": [
             [
              0.0,
              "#0d0887"
             ],
             [
              0.1111111111111111,
              "#46039f"
             ],
             [
              0.2222222222222222,
              "#7201a8"
             ],
             [
              0.3333333333333333,
              "#9c179e"
             ],
             [
              0.4444444444444444,
              "#bd3786"
             ],
             [
              0.5555555555555556,
              "#d8576b"
             ],
             [
              0.6666666666666666,
              "#ed7953"
             ],
             [
              0.7777777777777778,
              "#fb9f3a"
             ],
             [
              0.8888888888888888,
              "#fdca26"
             ],
             [
              1.0,
              "#f0f921"
             ]
            ]
           }
          ],
          "contourcarpet": [
           {
            "type": "contourcarpet",
            "colorbar": {
             "outlinewidth": 0,
             "ticks": ""
            }
           }
          ],
          "contour": [
           {
            "type": "contour",
            "colorbar": {
             "outlinewidth": 0,
             "ticks": ""
            },
            "colorscale": [
             [
              0.0,
              "#0d0887"
             ],
             [
              0.1111111111111111,
              "#46039f"
             ],
             [
              0.2222222222222222,
              "#7201a8"
             ],
             [
              0.3333333333333333,
              "#9c179e"
             ],
             [
              0.4444444444444444,
              "#bd3786"
             ],
             [
              0.5555555555555556,
              "#d8576b"
             ],
             [
              0.6666666666666666,
              "#ed7953"
             ],
             [
              0.7777777777777778,
              "#fb9f3a"
             ],
             [
              0.8888888888888888,
              "#fdca26"
             ],
             [
              1.0,
              "#f0f921"
             ]
            ]
           }
          ],
          "surface": [
           {
            "type": "surface",
            "colorbar": {
             "outlinewidth": 0,
             "ticks": ""
            },
            "colorscale": [
             [
              0.0,
              "#0d0887"
             ],
             [
              0.1111111111111111,
              "#46039f"
             ],
             [
              0.2222222222222222,
              "#7201a8"
             ],
             [
              0.3333333333333333,
              "#9c179e"
             ],
             [
              0.4444444444444444,
              "#bd3786"
             ],
             [
              0.5555555555555556,
              "#d8576b"
             ],
             [
              0.6666666666666666,
              "#ed7953"
             ],
             [
              0.7777777777777778,
              "#fb9f3a"
             ],
             [
              0.8888888888888888,
              "#fdca26"
             ],
             [
              1.0,
              "#f0f921"
             ]
            ]
           }
          ],
          "mesh3d": [
           {
            "type": "mesh3d",
            "colorbar": {
             "outlinewidth": 0,
             "ticks": ""
            }
           }
          ],
          "scatter": [
           {
            "marker": {
             "line": {
              "color": "#283442"
             }
            },
            "type": "scatter"
           }
          ],
          "parcoords": [
           {
            "type": "parcoords",
            "line": {
             "colorbar": {
              "outlinewidth": 0,
              "ticks": ""
             }
            }
           }
          ],
          "scatterpolargl": [
           {
            "type": "scatterpolargl",
            "marker": {
             "colorbar": {
              "outlinewidth": 0,
              "ticks": ""
             }
            }
           }
          ],
          "bar": [
           {
            "error_x": {
             "color": "#f2f5fa"
            },
            "error_y": {
             "color": "#f2f5fa"
            },
            "marker": {
             "line": {
              "color": "rgb(17,17,17)",
              "width": 0.5
             },
             "pattern": {
              "fillmode": "overlay",
              "size": 10,
              "solidity": 0.2
             }
            },
            "type": "bar"
           }
          ],
          "scattergeo": [
           {
            "type": "scattergeo",
            "marker": {
             "colorbar": {
              "outlinewidth": 0,
              "ticks": ""
             }
            }
           }
          ],
          "scatterpolar": [
           {
            "type": "scatterpolar",
            "marker": {
             "colorbar": {
              "outlinewidth": 0,
              "ticks": ""
             }
            }
           }
          ],
          "histogram": [
           {
            "marker": {
             "pattern": {
              "fillmode": "overlay",
              "size": 10,
              "solidity": 0.2
             }
            },
            "type": "histogram"
           }
          ],
          "scattergl": [
           {
            "marker": {
             "line": {
              "color": "#283442"
             }
            },
            "type": "scattergl"
           }
          ],
          "scatter3d": [
           {
            "type": "scatter3d",
            "line": {
             "colorbar": {
              "outlinewidth": 0,
              "ticks": ""
             }
            },
            "marker": {
             "colorbar": {
              "outlinewidth": 0,
              "ticks": ""
             }
            }
           }
          ],
          "scattermapbox": [
           {
            "type": "scattermapbox",
            "marker": {
             "colorbar": {
              "outlinewidth": 0,
              "ticks": ""
             }
            }
           }
          ],
          "scatterternary": [
           {
            "type": "scatterternary",
            "marker": {
             "colorbar": {
              "outlinewidth": 0,
              "ticks": ""
             }
            }
           }
          ],
          "scattercarpet": [
           {
            "type": "scattercarpet",
            "marker": {
             "colorbar": {
              "outlinewidth": 0,
              "ticks": ""
             }
            }
           }
          ],
          "carpet": [
           {
            "aaxis": {
             "endlinecolor": "#A2B1C6",
             "gridcolor": "#506784",
             "linecolor": "#506784",
             "minorgridcolor": "#506784",
             "startlinecolor": "#A2B1C6"
            },
            "baxis": {
             "endlinecolor": "#A2B1C6",
             "gridcolor": "#506784",
             "linecolor": "#506784",
             "minorgridcolor": "#506784",
             "startlinecolor": "#A2B1C6"
            },
            "type": "carpet"
           }
          ],
          "table": [
           {
            "cells": {
             "fill": {
              "color": "#506784"
             },
             "line": {
              "color": "rgb(17,17,17)"
             }
            },
            "header": {
             "fill": {
              "color": "#2a3f5f"
             },
             "line": {
              "color": "rgb(17,17,17)"
             }
            },
            "type": "table"
           }
          ],
          "barpolar": [
           {
            "marker": {
             "line": {
              "color": "rgb(17,17,17)",
              "width": 0.5
             },
             "pattern": {
              "fillmode": "overlay",
              "size": 10,
              "solidity": 0.2
             }
            },
            "type": "barpolar"
           }
          ],
          "pie": [
           {
            "automargin": true,
            "type": "pie"
           }
          ]
         },
         "layout": {
          "autotypenumbers": "strict",
          "colorway": [
           "#636efa",
           "#EF553B",
           "#00cc96",
           "#ab63fa",
           "#FFA15A",
           "#19d3f3",
           "#FF6692",
           "#B6E880",
           "#FF97FF",
           "#FECB52"
          ],
          "font": {
           "color": "#f2f5fa"
          },
          "hovermode": "closest",
          "hoverlabel": {
           "align": "left"
          },
          "paper_bgcolor": "rgb(17,17,17)",
          "plot_bgcolor": "rgb(17,17,17)",
          "polar": {
           "bgcolor": "rgb(17,17,17)",
           "angularaxis": {
            "gridcolor": "#506784",
            "linecolor": "#506784",
            "ticks": ""
           },
           "radialaxis": {
            "gridcolor": "#506784",
            "linecolor": "#506784",
            "ticks": ""
           }
          },
          "ternary": {
           "bgcolor": "rgb(17,17,17)",
           "aaxis": {
            "gridcolor": "#506784",
            "linecolor": "#506784",
            "ticks": ""
           },
           "baxis": {
            "gridcolor": "#506784",
            "linecolor": "#506784",
            "ticks": ""
           },
           "caxis": {
            "gridcolor": "#506784",
            "linecolor": "#506784",
            "ticks": ""
           }
          },
          "coloraxis": {
           "colorbar": {
            "outlinewidth": 0,
            "ticks": ""
           }
          },
          "colorscale": {
           "sequential": [
            [
             0.0,
             "#0d0887"
            ],
            [
             0.1111111111111111,
             "#46039f"
            ],
            [
             0.2222222222222222,
             "#7201a8"
            ],
            [
             0.3333333333333333,
             "#9c179e"
            ],
            [
             0.4444444444444444,
             "#bd3786"
            ],
            [
             0.5555555555555556,
             "#d8576b"
            ],
            [
             0.6666666666666666,
             "#ed7953"
            ],
            [
             0.7777777777777778,
             "#fb9f3a"
            ],
            [
             0.8888888888888888,
             "#fdca26"
            ],
            [
             1.0,
             "#f0f921"
            ]
           ],
           "sequentialminus": [
            [
             0.0,
             "#0d0887"
            ],
            [
             0.1111111111111111,
             "#46039f"
            ],
            [
             0.2222222222222222,
             "#7201a8"
            ],
            [
             0.3333333333333333,
             "#9c179e"
            ],
            [
             0.4444444444444444,
             "#bd3786"
            ],
            [
             0.5555555555555556,
             "#d8576b"
            ],
            [
             0.6666666666666666,
             "#ed7953"
            ],
            [
             0.7777777777777778,
             "#fb9f3a"
            ],
            [
             0.8888888888888888,
             "#fdca26"
            ],
            [
             1.0,
             "#f0f921"
            ]
           ],
           "diverging": [
            [
             0,
             "#8e0152"
            ],
            [
             0.1,
             "#c51b7d"
            ],
            [
             0.2,
             "#de77ae"
            ],
            [
             0.3,
             "#f1b6da"
            ],
            [
             0.4,
             "#fde0ef"
            ],
            [
             0.5,
             "#f7f7f7"
            ],
            [
             0.6,
             "#e6f5d0"
            ],
            [
             0.7,
             "#b8e186"
            ],
            [
             0.8,
             "#7fbc41"
            ],
            [
             0.9,
             "#4d9221"
            ],
            [
             1,
             "#276419"
            ]
           ]
          },
          "xaxis": {
           "gridcolor": "#283442",
           "linecolor": "#506784",
           "ticks": "",
           "title": {
            "standoff": 15
           },
           "zerolinecolor": "#283442",
           "automargin": true,
           "zerolinewidth": 2
          },
          "yaxis": {
           "gridcolor": "#283442",
           "linecolor": "#506784",
           "ticks": "",
           "title": {
            "standoff": 15
           },
           "zerolinecolor": "#283442",
           "automargin": true,
           "zerolinewidth": 2
          },
          "scene": {
           "xaxis": {
            "backgroundcolor": "rgb(17,17,17)",
            "gridcolor": "#506784",
            "linecolor": "#506784",
            "showbackground": true,
            "ticks": "",
            "zerolinecolor": "#C8D4E3",
            "gridwidth": 2
           },
           "yaxis": {
            "backgroundcolor": "rgb(17,17,17)",
            "gridcolor": "#506784",
            "linecolor": "#506784",
            "showbackground": true,
            "ticks": "",
            "zerolinecolor": "#C8D4E3",
            "gridwidth": 2
           },
           "zaxis": {
            "backgroundcolor": "rgb(17,17,17)",
            "gridcolor": "#506784",
            "linecolor": "#506784",
            "showbackground": true,
            "ticks": "",
            "zerolinecolor": "#C8D4E3",
            "gridwidth": 2
           }
          },
          "shapedefaults": {
           "line": {
            "color": "#f2f5fa"
           }
          },
          "annotationdefaults": {
           "arrowcolor": "#f2f5fa",
           "arrowhead": 0,
           "arrowwidth": 1
          },
          "geo": {
           "bgcolor": "rgb(17,17,17)",
           "landcolor": "rgb(17,17,17)",
           "subunitcolor": "#506784",
           "showland": true,
           "showlakes": true,
           "lakecolor": "rgb(17,17,17)"
          },
          "title": {
           "x": 0.05
          },
          "updatemenudefaults": {
           "bgcolor": "#506784",
           "borderwidth": 0
          },
          "sliderdefaults": {
           "bgcolor": "#C8D4E3",
           "borderwidth": 1,
           "bordercolor": "rgb(17,17,17)",
           "tickwidth": 0
          },
          "mapbox": {
           "style": "dark"
          }
         }
        },
        "title": {
         "text": "Average Allocation Time vs Host Count"
        },
        "xaxis": {
         "title": {
          "text": "Host Count"
         }
        },
        "yaxis": {
         "title": {
          "text": "Average Allocation Time (ms)"
         }
        }
       },
       "config": {
        "plotlyServerURL": "https://plot.ly"
       }
      },
      "text/html": "<div>                            <div id=\"0da25868-a58f-4030-927f-e9165660498c\" class=\"plotly-graph-div\" style=\"height:525px; width:100%;\"></div>            <script type=\"text/javascript\">                require([\"plotly\"], function(Plotly) {                    window.PLOTLYENV=window.PLOTLYENV || {};                                    if (document.getElementById(\"0da25868-a58f-4030-927f-e9165660498c\")) {                    Plotly.newPlot(                        \"0da25868-a58f-4030-927f-e9165660498c\",                        [{\"mode\":\"lines+markers\",\"name\":\"4DBinPacking\",\"x\":[5.0,10.0,20.0],\"y\":[1.047802564102564,2441.5101147058826,2858.154237931035],\"type\":\"scatter\"},{\"mode\":\"lines+markers\",\"name\":\"BestFit\",\"x\":[5.0,10.0,20.0,40.0,80.0,100.0,200.0,500.0,1000.0],\"y\":[0.03838237623762377,0.035394736842105264,0.03950943025540275,0.06202754607177498,0.09193407984420643,0.10912065637065638,0.23238133462282398,0.4887584942084942,1.1553956689124159],\"type\":\"scatter\"},{\"mode\":\"lines+markers\",\"name\":\"FirstFit\",\"x\":[5.0,10.0,20.0,40.0,80.0,100.0,200.0,500.0,1000.0],\"y\":[0.005774975369458128,0.0038098039215686275,0.0033581213307240705,0.002647181008902077,0.0031984390243902437,0.003200197433366239,0.002552785923753666,0.00244390243902439,0.002243343051506317],\"type\":\"scatter\"},{\"mode\":\"lines+markers\",\"name\":\"Simple\",\"x\":[5.0,10.0,20.0,40.0,80.0,100.0,200.0,500.0,1000.0],\"y\":[0.010345812807881775,0.019173699705593718,0.03124258893280632,0.04576061814556331,0.09504402764067127,0.10487645895153314,0.19106538461538464,0.505519028741328,1.2617232142857142],\"type\":\"scatter\"},{\"mode\":\"lines+markers\",\"name\":\"RoundRobin\",\"x\":[5.0,10.0,20.0,40.0,80.0,100.0,200.0,500.0,1000.0],\"y\":[0.003185939036381514,0.0017887585532746825,0.0021014619883040933,0.0022399009900990097,0.0019377097729516288,0.0016363366336633663,0.0018543111992071358,0.0025201189296333,0.0020807348560079445],\"type\":\"scatter\"}],                        {\"template\":{\"data\":{\"histogram2dcontour\":[{\"type\":\"histogram2dcontour\",\"colorbar\":{\"outlinewidth\":0,\"ticks\":\"\"},\"colorscale\":[[0.0,\"#0d0887\"],[0.1111111111111111,\"#46039f\"],[0.2222222222222222,\"#7201a8\"],[0.3333333333333333,\"#9c179e\"],[0.4444444444444444,\"#bd3786\"],[0.5555555555555556,\"#d8576b\"],[0.6666666666666666,\"#ed7953\"],[0.7777777777777778,\"#fb9f3a\"],[0.8888888888888888,\"#fdca26\"],[1.0,\"#f0f921\"]]}],\"choropleth\":[{\"type\":\"choropleth\",\"colorbar\":{\"outlinewidth\":0,\"ticks\":\"\"}}],\"histogram2d\":[{\"type\":\"histogram2d\",\"colorbar\":{\"outlinewidth\":0,\"ticks\":\"\"},\"colorscale\":[[0.0,\"#0d0887\"],[0.1111111111111111,\"#46039f\"],[0.2222222222222222,\"#7201a8\"],[0.3333333333333333,\"#9c179e\"],[0.4444444444444444,\"#bd3786\"],[0.5555555555555556,\"#d8576b\"],[0.6666666666666666,\"#ed7953\"],[0.7777777777777778,\"#fb9f3a\"],[0.8888888888888888,\"#fdca26\"],[1.0,\"#f0f921\"]]}],\"heatmap\":[{\"type\":\"heatmap\",\"colorbar\":{\"outlinewidth\":0,\"ticks\":\"\"},\"colorscale\":[[0.0,\"#0d0887\"],[0.1111111111111111,\"#46039f\"],[0.2222222222222222,\"#7201a8\"],[0.3333333333333333,\"#9c179e\"],[0.4444444444444444,\"#bd3786\"],[0.5555555555555556,\"#d8576b\"],[0.6666666666666666,\"#ed7953\"],[0.7777777777777778,\"#fb9f3a\"],[0.8888888888888888,\"#fdca26\"],[1.0,\"#f0f921\"]]}],\"heatmapgl\":[{\"type\":\"heatmapgl\",\"colorbar\":{\"outlinewidth\":0,\"ticks\":\"\"},\"colorscale\":[[0.0,\"#0d0887\"],[0.1111111111111111,\"#46039f\"],[0.2222222222222222,\"#7201a8\"],[0.3333333333333333,\"#9c179e\"],[0.4444444444444444,\"#bd3786\"],[0.5555555555555556,\"#d8576b\"],[0.6666666666666666,\"#ed7953\"],[0.7777777777777778,\"#fb9f3a\"],[0.8888888888888888,\"#fdca26\"],[1.0,\"#f0f921\"]]}],\"contourcarpet\":[{\"type\":\"contourcarpet\",\"colorbar\":{\"outlinewidth\":0,\"ticks\":\"\"}}],\"contour\":[{\"type\":\"contour\",\"colorbar\":{\"outlinewidth\":0,\"ticks\":\"\"},\"colorscale\":[[0.0,\"#0d0887\"],[0.1111111111111111,\"#46039f\"],[0.2222222222222222,\"#7201a8\"],[0.3333333333333333,\"#9c179e\"],[0.4444444444444444,\"#bd3786\"],[0.5555555555555556,\"#d8576b\"],[0.6666666666666666,\"#ed7953\"],[0.7777777777777778,\"#fb9f3a\"],[0.8888888888888888,\"#fdca26\"],[1.0,\"#f0f921\"]]}],\"surface\":[{\"type\":\"surface\",\"colorbar\":{\"outlinewidth\":0,\"ticks\":\"\"},\"colorscale\":[[0.0,\"#0d0887\"],[0.1111111111111111,\"#46039f\"],[0.2222222222222222,\"#7201a8\"],[0.3333333333333333,\"#9c179e\"],[0.4444444444444444,\"#bd3786\"],[0.5555555555555556,\"#d8576b\"],[0.6666666666666666,\"#ed7953\"],[0.7777777777777778,\"#fb9f3a\"],[0.8888888888888888,\"#fdca26\"],[1.0,\"#f0f921\"]]}],\"mesh3d\":[{\"type\":\"mesh3d\",\"colorbar\":{\"outlinewidth\":0,\"ticks\":\"\"}}],\"scatter\":[{\"marker\":{\"line\":{\"color\":\"#283442\"}},\"type\":\"scatter\"}],\"parcoords\":[{\"type\":\"parcoords\",\"line\":{\"colorbar\":{\"outlinewidth\":0,\"ticks\":\"\"}}}],\"scatterpolargl\":[{\"type\":\"scatterpolargl\",\"marker\":{\"colorbar\":{\"outlinewidth\":0,\"ticks\":\"\"}}}],\"bar\":[{\"error_x\":{\"color\":\"#f2f5fa\"},\"error_y\":{\"color\":\"#f2f5fa\"},\"marker\":{\"line\":{\"color\":\"rgb(17,17,17)\",\"width\":0.5},\"pattern\":{\"fillmode\":\"overlay\",\"size\":10,\"solidity\":0.2}},\"type\":\"bar\"}],\"scattergeo\":[{\"type\":\"scattergeo\",\"marker\":{\"colorbar\":{\"outlinewidth\":0,\"ticks\":\"\"}}}],\"scatterpolar\":[{\"type\":\"scatterpolar\",\"marker\":{\"colorbar\":{\"outlinewidth\":0,\"ticks\":\"\"}}}],\"histogram\":[{\"marker\":{\"pattern\":{\"fillmode\":\"overlay\",\"size\":10,\"solidity\":0.2}},\"type\":\"histogram\"}],\"scattergl\":[{\"marker\":{\"line\":{\"color\":\"#283442\"}},\"type\":\"scattergl\"}],\"scatter3d\":[{\"type\":\"scatter3d\",\"line\":{\"colorbar\":{\"outlinewidth\":0,\"ticks\":\"\"}},\"marker\":{\"colorbar\":{\"outlinewidth\":0,\"ticks\":\"\"}}}],\"scattermapbox\":[{\"type\":\"scattermapbox\",\"marker\":{\"colorbar\":{\"outlinewidth\":0,\"ticks\":\"\"}}}],\"scatterternary\":[{\"type\":\"scatterternary\",\"marker\":{\"colorbar\":{\"outlinewidth\":0,\"ticks\":\"\"}}}],\"scattercarpet\":[{\"type\":\"scattercarpet\",\"marker\":{\"colorbar\":{\"outlinewidth\":0,\"ticks\":\"\"}}}],\"carpet\":[{\"aaxis\":{\"endlinecolor\":\"#A2B1C6\",\"gridcolor\":\"#506784\",\"linecolor\":\"#506784\",\"minorgridcolor\":\"#506784\",\"startlinecolor\":\"#A2B1C6\"},\"baxis\":{\"endlinecolor\":\"#A2B1C6\",\"gridcolor\":\"#506784\",\"linecolor\":\"#506784\",\"minorgridcolor\":\"#506784\",\"startlinecolor\":\"#A2B1C6\"},\"type\":\"carpet\"}],\"table\":[{\"cells\":{\"fill\":{\"color\":\"#506784\"},\"line\":{\"color\":\"rgb(17,17,17)\"}},\"header\":{\"fill\":{\"color\":\"#2a3f5f\"},\"line\":{\"color\":\"rgb(17,17,17)\"}},\"type\":\"table\"}],\"barpolar\":[{\"marker\":{\"line\":{\"color\":\"rgb(17,17,17)\",\"width\":0.5},\"pattern\":{\"fillmode\":\"overlay\",\"size\":10,\"solidity\":0.2}},\"type\":\"barpolar\"}],\"pie\":[{\"automargin\":true,\"type\":\"pie\"}]},\"layout\":{\"autotypenumbers\":\"strict\",\"colorway\":[\"#636efa\",\"#EF553B\",\"#00cc96\",\"#ab63fa\",\"#FFA15A\",\"#19d3f3\",\"#FF6692\",\"#B6E880\",\"#FF97FF\",\"#FECB52\"],\"font\":{\"color\":\"#f2f5fa\"},\"hovermode\":\"closest\",\"hoverlabel\":{\"align\":\"left\"},\"paper_bgcolor\":\"rgb(17,17,17)\",\"plot_bgcolor\":\"rgb(17,17,17)\",\"polar\":{\"bgcolor\":\"rgb(17,17,17)\",\"angularaxis\":{\"gridcolor\":\"#506784\",\"linecolor\":\"#506784\",\"ticks\":\"\"},\"radialaxis\":{\"gridcolor\":\"#506784\",\"linecolor\":\"#506784\",\"ticks\":\"\"}},\"ternary\":{\"bgcolor\":\"rgb(17,17,17)\",\"aaxis\":{\"gridcolor\":\"#506784\",\"linecolor\":\"#506784\",\"ticks\":\"\"},\"baxis\":{\"gridcolor\":\"#506784\",\"linecolor\":\"#506784\",\"ticks\":\"\"},\"caxis\":{\"gridcolor\":\"#506784\",\"linecolor\":\"#506784\",\"ticks\":\"\"}},\"coloraxis\":{\"colorbar\":{\"outlinewidth\":0,\"ticks\":\"\"}},\"colorscale\":{\"sequential\":[[0.0,\"#0d0887\"],[0.1111111111111111,\"#46039f\"],[0.2222222222222222,\"#7201a8\"],[0.3333333333333333,\"#9c179e\"],[0.4444444444444444,\"#bd3786\"],[0.5555555555555556,\"#d8576b\"],[0.6666666666666666,\"#ed7953\"],[0.7777777777777778,\"#fb9f3a\"],[0.8888888888888888,\"#fdca26\"],[1.0,\"#f0f921\"]],\"sequentialminus\":[[0.0,\"#0d0887\"],[0.1111111111111111,\"#46039f\"],[0.2222222222222222,\"#7201a8\"],[0.3333333333333333,\"#9c179e\"],[0.4444444444444444,\"#bd3786\"],[0.5555555555555556,\"#d8576b\"],[0.6666666666666666,\"#ed7953\"],[0.7777777777777778,\"#fb9f3a\"],[0.8888888888888888,\"#fdca26\"],[1.0,\"#f0f921\"]],\"diverging\":[[0,\"#8e0152\"],[0.1,\"#c51b7d\"],[0.2,\"#de77ae\"],[0.3,\"#f1b6da\"],[0.4,\"#fde0ef\"],[0.5,\"#f7f7f7\"],[0.6,\"#e6f5d0\"],[0.7,\"#b8e186\"],[0.8,\"#7fbc41\"],[0.9,\"#4d9221\"],[1,\"#276419\"]]},\"xaxis\":{\"gridcolor\":\"#283442\",\"linecolor\":\"#506784\",\"ticks\":\"\",\"title\":{\"standoff\":15},\"zerolinecolor\":\"#283442\",\"automargin\":true,\"zerolinewidth\":2},\"yaxis\":{\"gridcolor\":\"#283442\",\"linecolor\":\"#506784\",\"ticks\":\"\",\"title\":{\"standoff\":15},\"zerolinecolor\":\"#283442\",\"automargin\":true,\"zerolinewidth\":2},\"scene\":{\"xaxis\":{\"backgroundcolor\":\"rgb(17,17,17)\",\"gridcolor\":\"#506784\",\"linecolor\":\"#506784\",\"showbackground\":true,\"ticks\":\"\",\"zerolinecolor\":\"#C8D4E3\",\"gridwidth\":2},\"yaxis\":{\"backgroundcolor\":\"rgb(17,17,17)\",\"gridcolor\":\"#506784\",\"linecolor\":\"#506784\",\"showbackground\":true,\"ticks\":\"\",\"zerolinecolor\":\"#C8D4E3\",\"gridwidth\":2},\"zaxis\":{\"backgroundcolor\":\"rgb(17,17,17)\",\"gridcolor\":\"#506784\",\"linecolor\":\"#506784\",\"showbackground\":true,\"ticks\":\"\",\"zerolinecolor\":\"#C8D4E3\",\"gridwidth\":2}},\"shapedefaults\":{\"line\":{\"color\":\"#f2f5fa\"}},\"annotationdefaults\":{\"arrowcolor\":\"#f2f5fa\",\"arrowhead\":0,\"arrowwidth\":1},\"geo\":{\"bgcolor\":\"rgb(17,17,17)\",\"landcolor\":\"rgb(17,17,17)\",\"subunitcolor\":\"#506784\",\"showland\":true,\"showlakes\":true,\"lakecolor\":\"rgb(17,17,17)\"},\"title\":{\"x\":0.05},\"updatemenudefaults\":{\"bgcolor\":\"#506784\",\"borderwidth\":0},\"sliderdefaults\":{\"bgcolor\":\"#C8D4E3\",\"borderwidth\":1,\"bordercolor\":\"rgb(17,17,17)\",\"tickwidth\":0},\"mapbox\":{\"style\":\"dark\"}}},\"title\":{\"text\":\"Average Allocation Time vs Host Count\"},\"xaxis\":{\"title\":{\"text\":\"Host Count\"}},\"yaxis\":{\"title\":{\"text\":\"Average Allocation Time (ms)\"}}},                        {\"responsive\": true}                    ).then(function(){\n                            \nvar gd = document.getElementById('0da25868-a58f-4030-927f-e9165660498c');\nvar x = new MutationObserver(function (mutations, observer) {{\n        var display = window.getComputedStyle(gd).display;\n        if (!display || display === 'none') {{\n            console.log([gd, 'removed!']);\n            Plotly.purge(gd);\n            observer.disconnect();\n        }}\n}});\n\n// Listen for the removal of the full notebook cells\nvar notebookContainer = gd.closest('#notebook-container');\nif (notebookContainer) {{\n    x.observe(notebookContainer, {childList: true});\n}}\n\n// Listen for the clearing of the current output cell\nvar outputEl = gd.closest('.output');\nif (outputEl) {{\n    x.observe(outputEl, {childList: true});\n}}\n\n                        })                };                });            </script>        </div>"
     },
     "metadata": {},
     "output_type": "display_data"
    }
   ],
   "source": [
    "fig = go.Figure()\n",
    "\n",
    "for allocation_policy in allocation_policies:\n",
    "    allocation_time_df = pd.DataFrame(columns = ['hostCount', 'avgAllocationTime'])\n",
    "    for host_config in host_configs:\n",
    "        host_count_df = pd.DataFrame()\n",
    "        for random_seed in random_seed_configs:\n",
    "            try:\n",
    "                df = pd.read_csv(f'../results/VmAllocationPolicy{allocation_policy}/'\n",
    "                                 f'VmAllocationPolicy{allocation_policy}_hosts_{host_config}_{random_seed}.csv')\n",
    "                host_count_df = pd.concat([host_count_df, df])\n",
    "            except FileNotFoundError:\n",
    "                print(f'File not found: VmAllocationPolicy{allocation_policy}_hosts_{host_config}_{random_seed}.csv')\n",
    "                continue\n",
    "        if host_count_df.empty:\n",
    "            print(f'WARN: Host count - {host_config} not available for - {allocation_policy} policy')\n",
    "            continue\n",
    "\n",
    "        avg_allocation_time = host_count_df.loc[:, 'allocationTime'].mean()\n",
    "        # row_dict = {'hostCount': host_config, 'avgAllocationTime': avg_allocation_time}\n",
    "        row = [host_config, avg_allocation_time]\n",
    "        # row_df = pd.DataFrame(row_dict, index=[0])\n",
    "        # allocation_time_df = pd.concat([allocation_time_df, row_df], ignore_index=True)\n",
    "        allocation_time_df.loc[len(allocation_time_df)] = row\n",
    "    # print(allocation_time_df)\n",
    "    fig.add_trace(go.Scatter(x=allocation_time_df['hostCount'], y=allocation_time_df['avgAllocationTime'], mode='lines+markers', name=allocation_policy))\n",
    "\n",
    "fig.update_layout(title='Average Allocation Time vs Host Count', xaxis_title='Host Count', yaxis_title='Average Allocation Time (ms)')\n",
    "fig.show()\n"
   ],
   "metadata": {
    "collapsed": false,
    "ExecuteTime": {
     "end_time": "2024-09-22T04:00:41.061891200Z",
     "start_time": "2024-09-22T04:00:40.530159800Z"
    }
   }
  }
 ],
 "metadata": {
  "kernelspec": {
   "display_name": "Python 3",
   "language": "python",
   "name": "python3"
  },
  "language_info": {
   "codemirror_mode": {
    "name": "ipython",
    "version": 2
   },
   "file_extension": ".py",
   "mimetype": "text/x-python",
   "name": "python",
   "nbconvert_exporter": "python",
   "pygments_lexer": "ipython2",
   "version": "2.7.6"
  }
 },
 "nbformat": 4,
 "nbformat_minor": 0
}
