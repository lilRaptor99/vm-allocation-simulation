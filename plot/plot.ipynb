{
 "cells": [
  {
   "cell_type": "code",
   "execution_count": 68,
   "outputs": [],
   "source": [
    "import pandas as pd\n",
    "import plotly.graph_objs as go"
   ],
   "metadata": {
    "collapsed": false,
    "ExecuteTime": {
     "end_time": "2024-09-22T13:26:02.291699600Z",
     "start_time": "2024-09-22T13:26:02.287066800Z"
    }
   }
  },
  {
   "cell_type": "code",
   "execution_count": 69,
   "outputs": [],
   "source": [
    "allocation_policies = ['4DBinPacking', 'BestFit', 'FirstFit', 'Simple', 'RoundRobin']\n",
    "host_configs = [5, 8, 10, 15, 20, 40, 80, 100, 200, 500, 1000]\n",
    "random_seed_configs = range(1, 11)"
   ],
   "metadata": {
    "collapsed": false,
    "ExecuteTime": {
     "end_time": "2024-09-22T13:26:02.308225600Z",
     "start_time": "2024-09-22T13:26:02.295697900Z"
    }
   }
  },
  {
   "cell_type": "code",
   "execution_count": 70,
   "outputs": [],
   "source": [
    "def remove_outliers(df, q=0.05):\n",
    "    upper = df.quantile(1-q)\n",
    "    lower = df.quantile(q)\n",
    "    mask = (df < upper) & (df > lower)\n",
    "    return mask"
   ],
   "metadata": {
    "collapsed": false,
    "ExecuteTime": {
     "end_time": "2024-09-22T13:26:02.323054800Z",
     "start_time": "2024-09-22T13:26:02.308225600Z"
    }
   }
  },
  {
   "cell_type": "code",
   "execution_count": 71,
   "outputs": [
    {
     "name": "stdout",
     "output_type": "stream",
     "text": [
      "File not found: VmAllocationPolicy4DBinPacking_hosts_20_6.csv\n",
      "File not found: VmAllocationPolicy4DBinPacking_hosts_20_7.csv\n",
      "File not found: VmAllocationPolicy4DBinPacking_hosts_20_8.csv\n",
      "File not found: VmAllocationPolicy4DBinPacking_hosts_20_9.csv\n",
      "File not found: VmAllocationPolicy4DBinPacking_hosts_20_10.csv\n",
      "File not found: VmAllocationPolicy4DBinPacking_hosts_40_1.csv\n",
      "File not found: VmAllocationPolicy4DBinPacking_hosts_40_2.csv\n",
      "File not found: VmAllocationPolicy4DBinPacking_hosts_40_3.csv\n",
      "File not found: VmAllocationPolicy4DBinPacking_hosts_40_4.csv\n",
      "File not found: VmAllocationPolicy4DBinPacking_hosts_40_5.csv\n",
      "File not found: VmAllocationPolicy4DBinPacking_hosts_40_6.csv\n",
      "File not found: VmAllocationPolicy4DBinPacking_hosts_40_7.csv\n",
      "File not found: VmAllocationPolicy4DBinPacking_hosts_40_8.csv\n",
      "File not found: VmAllocationPolicy4DBinPacking_hosts_40_9.csv\n",
      "File not found: VmAllocationPolicy4DBinPacking_hosts_40_10.csv\n",
      "WARN: Host count - 40 not available for - 4DBinPacking policy\n",
      "File not found: VmAllocationPolicy4DBinPacking_hosts_80_1.csv\n",
      "File not found: VmAllocationPolicy4DBinPacking_hosts_80_2.csv\n",
      "File not found: VmAllocationPolicy4DBinPacking_hosts_80_3.csv\n",
      "File not found: VmAllocationPolicy4DBinPacking_hosts_80_4.csv\n",
      "File not found: VmAllocationPolicy4DBinPacking_hosts_80_5.csv\n",
      "File not found: VmAllocationPolicy4DBinPacking_hosts_80_6.csv\n",
      "File not found: VmAllocationPolicy4DBinPacking_hosts_80_7.csv\n",
      "File not found: VmAllocationPolicy4DBinPacking_hosts_80_8.csv\n",
      "File not found: VmAllocationPolicy4DBinPacking_hosts_80_9.csv\n",
      "File not found: VmAllocationPolicy4DBinPacking_hosts_80_10.csv\n",
      "WARN: Host count - 80 not available for - 4DBinPacking policy\n",
      "File not found: VmAllocationPolicy4DBinPacking_hosts_100_1.csv\n",
      "File not found: VmAllocationPolicy4DBinPacking_hosts_100_2.csv\n",
      "File not found: VmAllocationPolicy4DBinPacking_hosts_100_3.csv\n",
      "File not found: VmAllocationPolicy4DBinPacking_hosts_100_4.csv\n",
      "File not found: VmAllocationPolicy4DBinPacking_hosts_100_5.csv\n",
      "File not found: VmAllocationPolicy4DBinPacking_hosts_100_6.csv\n",
      "File not found: VmAllocationPolicy4DBinPacking_hosts_100_7.csv\n",
      "File not found: VmAllocationPolicy4DBinPacking_hosts_100_8.csv\n",
      "File not found: VmAllocationPolicy4DBinPacking_hosts_100_9.csv\n",
      "File not found: VmAllocationPolicy4DBinPacking_hosts_100_10.csv\n",
      "WARN: Host count - 100 not available for - 4DBinPacking policy\n",
      "File not found: VmAllocationPolicy4DBinPacking_hosts_200_1.csv\n",
      "File not found: VmAllocationPolicy4DBinPacking_hosts_200_2.csv\n",
      "File not found: VmAllocationPolicy4DBinPacking_hosts_200_3.csv\n",
      "File not found: VmAllocationPolicy4DBinPacking_hosts_200_4.csv\n",
      "File not found: VmAllocationPolicy4DBinPacking_hosts_200_5.csv\n",
      "File not found: VmAllocationPolicy4DBinPacking_hosts_200_6.csv\n",
      "File not found: VmAllocationPolicy4DBinPacking_hosts_200_7.csv\n",
      "File not found: VmAllocationPolicy4DBinPacking_hosts_200_8.csv\n",
      "File not found: VmAllocationPolicy4DBinPacking_hosts_200_9.csv\n",
      "File not found: VmAllocationPolicy4DBinPacking_hosts_200_10.csv\n",
      "WARN: Host count - 200 not available for - 4DBinPacking policy\n",
      "File not found: VmAllocationPolicy4DBinPacking_hosts_500_1.csv\n",
      "File not found: VmAllocationPolicy4DBinPacking_hosts_500_2.csv\n",
      "File not found: VmAllocationPolicy4DBinPacking_hosts_500_3.csv\n",
      "File not found: VmAllocationPolicy4DBinPacking_hosts_500_4.csv\n",
      "File not found: VmAllocationPolicy4DBinPacking_hosts_500_5.csv\n",
      "File not found: VmAllocationPolicy4DBinPacking_hosts_500_6.csv\n",
      "File not found: VmAllocationPolicy4DBinPacking_hosts_500_7.csv\n",
      "File not found: VmAllocationPolicy4DBinPacking_hosts_500_8.csv\n",
      "File not found: VmAllocationPolicy4DBinPacking_hosts_500_9.csv\n",
      "File not found: VmAllocationPolicy4DBinPacking_hosts_500_10.csv\n",
      "WARN: Host count - 500 not available for - 4DBinPacking policy\n",
      "File not found: VmAllocationPolicy4DBinPacking_hosts_1000_1.csv\n",
      "File not found: VmAllocationPolicy4DBinPacking_hosts_1000_2.csv\n",
      "File not found: VmAllocationPolicy4DBinPacking_hosts_1000_3.csv\n",
      "File not found: VmAllocationPolicy4DBinPacking_hosts_1000_4.csv\n",
      "File not found: VmAllocationPolicy4DBinPacking_hosts_1000_5.csv\n",
      "File not found: VmAllocationPolicy4DBinPacking_hosts_1000_6.csv\n",
      "File not found: VmAllocationPolicy4DBinPacking_hosts_1000_7.csv\n",
      "File not found: VmAllocationPolicy4DBinPacking_hosts_1000_8.csv\n",
      "File not found: VmAllocationPolicy4DBinPacking_hosts_1000_9.csv\n",
      "File not found: VmAllocationPolicy4DBinPacking_hosts_1000_10.csv\n",
      "WARN: Host count - 1000 not available for - 4DBinPacking policy\n",
      "File not found: VmAllocationPolicyBestFit_hosts_8_1.csv\n",
      "File not found: VmAllocationPolicyBestFit_hosts_8_2.csv\n",
      "File not found: VmAllocationPolicyBestFit_hosts_8_3.csv\n",
      "File not found: VmAllocationPolicyBestFit_hosts_8_4.csv\n",
      "File not found: VmAllocationPolicyBestFit_hosts_8_5.csv\n",
      "File not found: VmAllocationPolicyBestFit_hosts_8_6.csv\n",
      "File not found: VmAllocationPolicyBestFit_hosts_8_7.csv\n",
      "File not found: VmAllocationPolicyBestFit_hosts_8_8.csv\n",
      "File not found: VmAllocationPolicyBestFit_hosts_8_9.csv\n",
      "File not found: VmAllocationPolicyBestFit_hosts_8_10.csv\n",
      "WARN: Host count - 8 not available for - BestFit policy\n",
      "File not found: VmAllocationPolicyBestFit_hosts_15_1.csv\n",
      "File not found: VmAllocationPolicyBestFit_hosts_15_2.csv\n",
      "File not found: VmAllocationPolicyBestFit_hosts_15_3.csv\n",
      "File not found: VmAllocationPolicyBestFit_hosts_15_4.csv\n",
      "File not found: VmAllocationPolicyBestFit_hosts_15_5.csv\n",
      "File not found: VmAllocationPolicyBestFit_hosts_15_6.csv\n",
      "File not found: VmAllocationPolicyBestFit_hosts_15_7.csv\n",
      "File not found: VmAllocationPolicyBestFit_hosts_15_8.csv\n",
      "File not found: VmAllocationPolicyBestFit_hosts_15_9.csv\n",
      "File not found: VmAllocationPolicyBestFit_hosts_15_10.csv\n",
      "WARN: Host count - 15 not available for - BestFit policy\n",
      "File not found: VmAllocationPolicyFirstFit_hosts_8_1.csv\n",
      "File not found: VmAllocationPolicyFirstFit_hosts_8_2.csv\n",
      "File not found: VmAllocationPolicyFirstFit_hosts_8_3.csv\n",
      "File not found: VmAllocationPolicyFirstFit_hosts_8_4.csv\n",
      "File not found: VmAllocationPolicyFirstFit_hosts_8_5.csv\n",
      "File not found: VmAllocationPolicyFirstFit_hosts_8_6.csv\n",
      "File not found: VmAllocationPolicyFirstFit_hosts_8_7.csv\n",
      "File not found: VmAllocationPolicyFirstFit_hosts_8_8.csv\n",
      "File not found: VmAllocationPolicyFirstFit_hosts_8_9.csv\n",
      "File not found: VmAllocationPolicyFirstFit_hosts_8_10.csv\n",
      "WARN: Host count - 8 not available for - FirstFit policy\n",
      "File not found: VmAllocationPolicyFirstFit_hosts_15_1.csv\n",
      "File not found: VmAllocationPolicyFirstFit_hosts_15_2.csv\n",
      "File not found: VmAllocationPolicyFirstFit_hosts_15_3.csv\n",
      "File not found: VmAllocationPolicyFirstFit_hosts_15_4.csv\n",
      "File not found: VmAllocationPolicyFirstFit_hosts_15_5.csv\n",
      "File not found: VmAllocationPolicyFirstFit_hosts_15_6.csv\n",
      "File not found: VmAllocationPolicyFirstFit_hosts_15_7.csv\n",
      "File not found: VmAllocationPolicyFirstFit_hosts_15_8.csv\n",
      "File not found: VmAllocationPolicyFirstFit_hosts_15_9.csv\n",
      "File not found: VmAllocationPolicyFirstFit_hosts_15_10.csv\n",
      "WARN: Host count - 15 not available for - FirstFit policy\n",
      "File not found: VmAllocationPolicySimple_hosts_8_1.csv\n",
      "File not found: VmAllocationPolicySimple_hosts_8_2.csv\n",
      "File not found: VmAllocationPolicySimple_hosts_8_3.csv\n",
      "File not found: VmAllocationPolicySimple_hosts_8_4.csv\n",
      "File not found: VmAllocationPolicySimple_hosts_8_5.csv\n",
      "File not found: VmAllocationPolicySimple_hosts_8_6.csv\n",
      "File not found: VmAllocationPolicySimple_hosts_8_7.csv\n",
      "File not found: VmAllocationPolicySimple_hosts_8_8.csv\n",
      "File not found: VmAllocationPolicySimple_hosts_8_9.csv\n",
      "File not found: VmAllocationPolicySimple_hosts_8_10.csv\n",
      "WARN: Host count - 8 not available for - Simple policy\n",
      "File not found: VmAllocationPolicySimple_hosts_15_1.csv\n",
      "File not found: VmAllocationPolicySimple_hosts_15_2.csv\n",
      "File not found: VmAllocationPolicySimple_hosts_15_3.csv\n",
      "File not found: VmAllocationPolicySimple_hosts_15_4.csv\n",
      "File not found: VmAllocationPolicySimple_hosts_15_5.csv\n",
      "File not found: VmAllocationPolicySimple_hosts_15_6.csv\n",
      "File not found: VmAllocationPolicySimple_hosts_15_7.csv\n",
      "File not found: VmAllocationPolicySimple_hosts_15_8.csv\n",
      "File not found: VmAllocationPolicySimple_hosts_15_9.csv\n",
      "File not found: VmAllocationPolicySimple_hosts_15_10.csv\n",
      "WARN: Host count - 15 not available for - Simple policy\n",
      "File not found: VmAllocationPolicyRoundRobin_hosts_8_1.csv\n",
      "File not found: VmAllocationPolicyRoundRobin_hosts_8_2.csv\n",
      "File not found: VmAllocationPolicyRoundRobin_hosts_8_3.csv\n",
      "File not found: VmAllocationPolicyRoundRobin_hosts_8_4.csv\n",
      "File not found: VmAllocationPolicyRoundRobin_hosts_8_5.csv\n",
      "File not found: VmAllocationPolicyRoundRobin_hosts_8_6.csv\n",
      "File not found: VmAllocationPolicyRoundRobin_hosts_8_7.csv\n",
      "File not found: VmAllocationPolicyRoundRobin_hosts_8_8.csv\n",
      "File not found: VmAllocationPolicyRoundRobin_hosts_8_9.csv\n",
      "File not found: VmAllocationPolicyRoundRobin_hosts_8_10.csv\n",
      "WARN: Host count - 8 not available for - RoundRobin policy\n",
      "File not found: VmAllocationPolicyRoundRobin_hosts_15_1.csv\n",
      "File not found: VmAllocationPolicyRoundRobin_hosts_15_2.csv\n",
      "File not found: VmAllocationPolicyRoundRobin_hosts_15_3.csv\n",
      "File not found: VmAllocationPolicyRoundRobin_hosts_15_4.csv\n",
      "File not found: VmAllocationPolicyRoundRobin_hosts_15_5.csv\n",
      "File not found: VmAllocationPolicyRoundRobin_hosts_15_6.csv\n",
      "File not found: VmAllocationPolicyRoundRobin_hosts_15_7.csv\n",
      "File not found: VmAllocationPolicyRoundRobin_hosts_15_8.csv\n",
      "File not found: VmAllocationPolicyRoundRobin_hosts_15_9.csv\n",
      "File not found: VmAllocationPolicyRoundRobin_hosts_15_10.csv\n",
      "WARN: Host count - 15 not available for - RoundRobin policy\n"
     ]
    },
    {
     "data": {
      "application/vnd.plotly.v1+json": {
       "data": [
        {
         "mode": "lines+markers",
         "name": "4DBinPacking",
         "x": [
          5.0,
          8.0,
          10.0,
          15.0,
          20.0
         ],
         "y": [
          0.7908452631578948,
          8.323578033794162,
          76.95312499999999,
          458.0493600000001,
          2344.2414102564103
         ],
         "type": "scatter"
        },
        {
         "mode": "lines+markers",
         "name": "BestFit",
         "x": [
          5.0,
          10.0,
          20.0,
          40.0,
          80.0,
          100.0,
          200.0,
          500.0,
          1000.0
         ],
         "y": [
          0.030698396793587174,
          0.03306731898238747,
          0.03685904572564612,
          0.0602091976516634,
          0.08110468750000001,
          0.09429239766081872,
          0.2000765503875969,
          0.43545482625482623,
          1.0739728323699422
         ],
         "type": "scatter"
        },
        {
         "mode": "lines+markers",
         "name": "FirstFit",
         "x": [
          5.0,
          10.0,
          20.0,
          40.0,
          80.0,
          100.0,
          200.0,
          500.0,
          1000.0
         ],
         "y": [
          0.004803018108651912,
          0.0033866952789699573,
          0.002878543307086614,
          0.0022220883534136543,
          0.002670192307692308,
          0.0024699186991869915,
          0.002065784114052953,
          0.002022295805739514,
          0.0020055900621118016
         ],
         "type": "scatter"
        },
        {
         "mode": "lines+markers",
         "name": "Simple",
         "x": [
          5.0,
          10.0,
          20.0,
          40.0,
          80.0,
          100.0,
          200.0,
          500.0,
          1000.0
         ],
         "y": [
          0.00939030303030303,
          0.017990729783037476,
          0.027885915492957745,
          0.03863482688391038,
          0.0836122,
          0.09261210317460318,
          0.17847862903225806,
          0.45608548707753477,
          1.199582703777336
         ],
         "type": "scatter"
        },
        {
         "mode": "lines+markers",
         "name": "RoundRobin",
         "x": [
          5.0,
          10.0,
          20.0,
          40.0,
          80.0,
          100.0,
          200.0,
          500.0,
          1000.0
         ],
         "y": [
          0.002872784810126582,
          0.001305793991416309,
          0.0018899103139013453,
          0.0019898850574712646,
          0.0016164044943820226,
          0.0011759615384615385,
          0.0014627296587926507,
          0.00194868154158215,
          0.0017141612200435728
         ],
         "type": "scatter"
        }
       ],
       "layout": {
        "template": {
         "data": {
          "histogram2dcontour": [
           {
            "type": "histogram2dcontour",
            "colorbar": {
             "outlinewidth": 0,
             "ticks": ""
            },
            "colorscale": [
             [
              0.0,
              "#0d0887"
             ],
             [
              0.1111111111111111,
              "#46039f"
             ],
             [
              0.2222222222222222,
              "#7201a8"
             ],
             [
              0.3333333333333333,
              "#9c179e"
             ],
             [
              0.4444444444444444,
              "#bd3786"
             ],
             [
              0.5555555555555556,
              "#d8576b"
             ],
             [
              0.6666666666666666,
              "#ed7953"
             ],
             [
              0.7777777777777778,
              "#fb9f3a"
             ],
             [
              0.8888888888888888,
              "#fdca26"
             ],
             [
              1.0,
              "#f0f921"
             ]
            ]
           }
          ],
          "choropleth": [
           {
            "type": "choropleth",
            "colorbar": {
             "outlinewidth": 0,
             "ticks": ""
            }
           }
          ],
          "histogram2d": [
           {
            "type": "histogram2d",
            "colorbar": {
             "outlinewidth": 0,
             "ticks": ""
            },
            "colorscale": [
             [
              0.0,
              "#0d0887"
             ],
             [
              0.1111111111111111,
              "#46039f"
             ],
             [
              0.2222222222222222,
              "#7201a8"
             ],
             [
              0.3333333333333333,
              "#9c179e"
             ],
             [
              0.4444444444444444,
              "#bd3786"
             ],
             [
              0.5555555555555556,
              "#d8576b"
             ],
             [
              0.6666666666666666,
              "#ed7953"
             ],
             [
              0.7777777777777778,
              "#fb9f3a"
             ],
             [
              0.8888888888888888,
              "#fdca26"
             ],
             [
              1.0,
              "#f0f921"
             ]
            ]
           }
          ],
          "heatmap": [
           {
            "type": "heatmap",
            "colorbar": {
             "outlinewidth": 0,
             "ticks": ""
            },
            "colorscale": [
             [
              0.0,
              "#0d0887"
             ],
             [
              0.1111111111111111,
              "#46039f"
             ],
             [
              0.2222222222222222,
              "#7201a8"
             ],
             [
              0.3333333333333333,
              "#9c179e"
             ],
             [
              0.4444444444444444,
              "#bd3786"
             ],
             [
              0.5555555555555556,
              "#d8576b"
             ],
             [
              0.6666666666666666,
              "#ed7953"
             ],
             [
              0.7777777777777778,
              "#fb9f3a"
             ],
             [
              0.8888888888888888,
              "#fdca26"
             ],
             [
              1.0,
              "#f0f921"
             ]
            ]
           }
          ],
          "heatmapgl": [
           {
            "type": "heatmapgl",
            "colorbar": {
             "outlinewidth": 0,
             "ticks": ""
            },
            "colorscale": [
             [
              0.0,
              "#0d0887"
             ],
             [
              0.1111111111111111,
              "#46039f"
             ],
             [
              0.2222222222222222,
              "#7201a8"
             ],
             [
              0.3333333333333333,
              "#9c179e"
             ],
             [
              0.4444444444444444,
              "#bd3786"
             ],
             [
              0.5555555555555556,
              "#d8576b"
             ],
             [
              0.6666666666666666,
              "#ed7953"
             ],
             [
              0.7777777777777778,
              "#fb9f3a"
             ],
             [
              0.8888888888888888,
              "#fdca26"
             ],
             [
              1.0,
              "#f0f921"
             ]
            ]
           }
          ],
          "contourcarpet": [
           {
            "type": "contourcarpet",
            "colorbar": {
             "outlinewidth": 0,
             "ticks": ""
            }
           }
          ],
          "contour": [
           {
            "type": "contour",
            "colorbar": {
             "outlinewidth": 0,
             "ticks": ""
            },
            "colorscale": [
             [
              0.0,
              "#0d0887"
             ],
             [
              0.1111111111111111,
              "#46039f"
             ],
             [
              0.2222222222222222,
              "#7201a8"
             ],
             [
              0.3333333333333333,
              "#9c179e"
             ],
             [
              0.4444444444444444,
              "#bd3786"
             ],
             [
              0.5555555555555556,
              "#d8576b"
             ],
             [
              0.6666666666666666,
              "#ed7953"
             ],
             [
              0.7777777777777778,
              "#fb9f3a"
             ],
             [
              0.8888888888888888,
              "#fdca26"
             ],
             [
              1.0,
              "#f0f921"
             ]
            ]
           }
          ],
          "surface": [
           {
            "type": "surface",
            "colorbar": {
             "outlinewidth": 0,
             "ticks": ""
            },
            "colorscale": [
             [
              0.0,
              "#0d0887"
             ],
             [
              0.1111111111111111,
              "#46039f"
             ],
             [
              0.2222222222222222,
              "#7201a8"
             ],
             [
              0.3333333333333333,
              "#9c179e"
             ],
             [
              0.4444444444444444,
              "#bd3786"
             ],
             [
              0.5555555555555556,
              "#d8576b"
             ],
             [
              0.6666666666666666,
              "#ed7953"
             ],
             [
              0.7777777777777778,
              "#fb9f3a"
             ],
             [
              0.8888888888888888,
              "#fdca26"
             ],
             [
              1.0,
              "#f0f921"
             ]
            ]
           }
          ],
          "mesh3d": [
           {
            "type": "mesh3d",
            "colorbar": {
             "outlinewidth": 0,
             "ticks": ""
            }
           }
          ],
          "scatter": [
           {
            "marker": {
             "line": {
              "color": "#283442"
             }
            },
            "type": "scatter"
           }
          ],
          "parcoords": [
           {
            "type": "parcoords",
            "line": {
             "colorbar": {
              "outlinewidth": 0,
              "ticks": ""
             }
            }
           }
          ],
          "scatterpolargl": [
           {
            "type": "scatterpolargl",
            "marker": {
             "colorbar": {
              "outlinewidth": 0,
              "ticks": ""
             }
            }
           }
          ],
          "bar": [
           {
            "error_x": {
             "color": "#f2f5fa"
            },
            "error_y": {
             "color": "#f2f5fa"
            },
            "marker": {
             "line": {
              "color": "rgb(17,17,17)",
              "width": 0.5
             },
             "pattern": {
              "fillmode": "overlay",
              "size": 10,
              "solidity": 0.2
             }
            },
            "type": "bar"
           }
          ],
          "scattergeo": [
           {
            "type": "scattergeo",
            "marker": {
             "colorbar": {
              "outlinewidth": 0,
              "ticks": ""
             }
            }
           }
          ],
          "scatterpolar": [
           {
            "type": "scatterpolar",
            "marker": {
             "colorbar": {
              "outlinewidth": 0,
              "ticks": ""
             }
            }
           }
          ],
          "histogram": [
           {
            "marker": {
             "pattern": {
              "fillmode": "overlay",
              "size": 10,
              "solidity": 0.2
             }
            },
            "type": "histogram"
           }
          ],
          "scattergl": [
           {
            "marker": {
             "line": {
              "color": "#283442"
             }
            },
            "type": "scattergl"
           }
          ],
          "scatter3d": [
           {
            "type": "scatter3d",
            "line": {
             "colorbar": {
              "outlinewidth": 0,
              "ticks": ""
             }
            },
            "marker": {
             "colorbar": {
              "outlinewidth": 0,
              "ticks": ""
             }
            }
           }
          ],
          "scattermapbox": [
           {
            "type": "scattermapbox",
            "marker": {
             "colorbar": {
              "outlinewidth": 0,
              "ticks": ""
             }
            }
           }
          ],
          "scatterternary": [
           {
            "type": "scatterternary",
            "marker": {
             "colorbar": {
              "outlinewidth": 0,
              "ticks": ""
             }
            }
           }
          ],
          "scattercarpet": [
           {
            "type": "scattercarpet",
            "marker": {
             "colorbar": {
              "outlinewidth": 0,
              "ticks": ""
             }
            }
           }
          ],
          "carpet": [
           {
            "aaxis": {
             "endlinecolor": "#A2B1C6",
             "gridcolor": "#506784",
             "linecolor": "#506784",
             "minorgridcolor": "#506784",
             "startlinecolor": "#A2B1C6"
            },
            "baxis": {
             "endlinecolor": "#A2B1C6",
             "gridcolor": "#506784",
             "linecolor": "#506784",
             "minorgridcolor": "#506784",
             "startlinecolor": "#A2B1C6"
            },
            "type": "carpet"
           }
          ],
          "table": [
           {
            "cells": {
             "fill": {
              "color": "#506784"
             },
             "line": {
              "color": "rgb(17,17,17)"
             }
            },
            "header": {
             "fill": {
              "color": "#2a3f5f"
             },
             "line": {
              "color": "rgb(17,17,17)"
             }
            },
            "type": "table"
           }
          ],
          "barpolar": [
           {
            "marker": {
             "line": {
              "color": "rgb(17,17,17)",
              "width": 0.5
             },
             "pattern": {
              "fillmode": "overlay",
              "size": 10,
              "solidity": 0.2
             }
            },
            "type": "barpolar"
           }
          ],
          "pie": [
           {
            "automargin": true,
            "type": "pie"
           }
          ]
         },
         "layout": {
          "autotypenumbers": "strict",
          "colorway": [
           "#636efa",
           "#EF553B",
           "#00cc96",
           "#ab63fa",
           "#FFA15A",
           "#19d3f3",
           "#FF6692",
           "#B6E880",
           "#FF97FF",
           "#FECB52"
          ],
          "font": {
           "color": "#f2f5fa"
          },
          "hovermode": "closest",
          "hoverlabel": {
           "align": "left"
          },
          "paper_bgcolor": "rgb(17,17,17)",
          "plot_bgcolor": "rgb(17,17,17)",
          "polar": {
           "bgcolor": "rgb(17,17,17)",
           "angularaxis": {
            "gridcolor": "#506784",
            "linecolor": "#506784",
            "ticks": ""
           },
           "radialaxis": {
            "gridcolor": "#506784",
            "linecolor": "#506784",
            "ticks": ""
           }
          },
          "ternary": {
           "bgcolor": "rgb(17,17,17)",
           "aaxis": {
            "gridcolor": "#506784",
            "linecolor": "#506784",
            "ticks": ""
           },
           "baxis": {
            "gridcolor": "#506784",
            "linecolor": "#506784",
            "ticks": ""
           },
           "caxis": {
            "gridcolor": "#506784",
            "linecolor": "#506784",
            "ticks": ""
           }
          },
          "coloraxis": {
           "colorbar": {
            "outlinewidth": 0,
            "ticks": ""
           }
          },
          "colorscale": {
           "sequential": [
            [
             0.0,
             "#0d0887"
            ],
            [
             0.1111111111111111,
             "#46039f"
            ],
            [
             0.2222222222222222,
             "#7201a8"
            ],
            [
             0.3333333333333333,
             "#9c179e"
            ],
            [
             0.4444444444444444,
             "#bd3786"
            ],
            [
             0.5555555555555556,
             "#d8576b"
            ],
            [
             0.6666666666666666,
             "#ed7953"
            ],
            [
             0.7777777777777778,
             "#fb9f3a"
            ],
            [
             0.8888888888888888,
             "#fdca26"
            ],
            [
             1.0,
             "#f0f921"
            ]
           ],
           "sequentialminus": [
            [
             0.0,
             "#0d0887"
            ],
            [
             0.1111111111111111,
             "#46039f"
            ],
            [
             0.2222222222222222,
             "#7201a8"
            ],
            [
             0.3333333333333333,
             "#9c179e"
            ],
            [
             0.4444444444444444,
             "#bd3786"
            ],
            [
             0.5555555555555556,
             "#d8576b"
            ],
            [
             0.6666666666666666,
             "#ed7953"
            ],
            [
             0.7777777777777778,
             "#fb9f3a"
            ],
            [
             0.8888888888888888,
             "#fdca26"
            ],
            [
             1.0,
             "#f0f921"
            ]
           ],
           "diverging": [
            [
             0,
             "#8e0152"
            ],
            [
             0.1,
             "#c51b7d"
            ],
            [
             0.2,
             "#de77ae"
            ],
            [
             0.3,
             "#f1b6da"
            ],
            [
             0.4,
             "#fde0ef"
            ],
            [
             0.5,
             "#f7f7f7"
            ],
            [
             0.6,
             "#e6f5d0"
            ],
            [
             0.7,
             "#b8e186"
            ],
            [
             0.8,
             "#7fbc41"
            ],
            [
             0.9,
             "#4d9221"
            ],
            [
             1,
             "#276419"
            ]
           ]
          },
          "xaxis": {
           "gridcolor": "#283442",
           "linecolor": "#506784",
           "ticks": "",
           "title": {
            "standoff": 15
           },
           "zerolinecolor": "#283442",
           "automargin": true,
           "zerolinewidth": 2
          },
          "yaxis": {
           "gridcolor": "#283442",
           "linecolor": "#506784",
           "ticks": "",
           "title": {
            "standoff": 15
           },
           "zerolinecolor": "#283442",
           "automargin": true,
           "zerolinewidth": 2
          },
          "scene": {
           "xaxis": {
            "backgroundcolor": "rgb(17,17,17)",
            "gridcolor": "#506784",
            "linecolor": "#506784",
            "showbackground": true,
            "ticks": "",
            "zerolinecolor": "#C8D4E3",
            "gridwidth": 2
           },
           "yaxis": {
            "backgroundcolor": "rgb(17,17,17)",
            "gridcolor": "#506784",
            "linecolor": "#506784",
            "showbackground": true,
            "ticks": "",
            "zerolinecolor": "#C8D4E3",
            "gridwidth": 2
           },
           "zaxis": {
            "backgroundcolor": "rgb(17,17,17)",
            "gridcolor": "#506784",
            "linecolor": "#506784",
            "showbackground": true,
            "ticks": "",
            "zerolinecolor": "#C8D4E3",
            "gridwidth": 2
           }
          },
          "shapedefaults": {
           "line": {
            "color": "#f2f5fa"
           }
          },
          "annotationdefaults": {
           "arrowcolor": "#f2f5fa",
           "arrowhead": 0,
           "arrowwidth": 1
          },
          "geo": {
           "bgcolor": "rgb(17,17,17)",
           "landcolor": "rgb(17,17,17)",
           "subunitcolor": "#506784",
           "showland": true,
           "showlakes": true,
           "lakecolor": "rgb(17,17,17)"
          },
          "title": {
           "x": 0.05
          },
          "updatemenudefaults": {
           "bgcolor": "#506784",
           "borderwidth": 0
          },
          "sliderdefaults": {
           "bgcolor": "#C8D4E3",
           "borderwidth": 1,
           "bordercolor": "rgb(17,17,17)",
           "tickwidth": 0
          },
          "mapbox": {
           "style": "dark"
          }
         }
        },
        "title": {
         "text": "Average Allocation Time vs Host Count"
        },
        "xaxis": {
         "title": {
          "text": "Host Count"
         }
        },
        "yaxis": {
         "title": {
          "text": "Average Allocation Time (ms)"
         }
        }
       },
       "config": {
        "plotlyServerURL": "https://plot.ly"
       }
      },
      "text/html": "<div>                            <div id=\"ceeb47da-080b-4a3e-826d-3c584475ce4c\" class=\"plotly-graph-div\" style=\"height:525px; width:100%;\"></div>            <script type=\"text/javascript\">                require([\"plotly\"], function(Plotly) {                    window.PLOTLYENV=window.PLOTLYENV || {};                                    if (document.getElementById(\"ceeb47da-080b-4a3e-826d-3c584475ce4c\")) {                    Plotly.newPlot(                        \"ceeb47da-080b-4a3e-826d-3c584475ce4c\",                        [{\"mode\":\"lines+markers\",\"name\":\"4DBinPacking\",\"x\":[5.0,8.0,10.0,15.0,20.0],\"y\":[0.7908452631578948,8.323578033794162,76.95312499999999,458.0493600000001,2344.2414102564103],\"type\":\"scatter\"},{\"mode\":\"lines+markers\",\"name\":\"BestFit\",\"x\":[5.0,10.0,20.0,40.0,80.0,100.0,200.0,500.0,1000.0],\"y\":[0.030698396793587174,0.03306731898238747,0.03685904572564612,0.0602091976516634,0.08110468750000001,0.09429239766081872,0.2000765503875969,0.43545482625482623,1.0739728323699422],\"type\":\"scatter\"},{\"mode\":\"lines+markers\",\"name\":\"FirstFit\",\"x\":[5.0,10.0,20.0,40.0,80.0,100.0,200.0,500.0,1000.0],\"y\":[0.004803018108651912,0.0033866952789699573,0.002878543307086614,0.0022220883534136543,0.002670192307692308,0.0024699186991869915,0.002065784114052953,0.002022295805739514,0.0020055900621118016],\"type\":\"scatter\"},{\"mode\":\"lines+markers\",\"name\":\"Simple\",\"x\":[5.0,10.0,20.0,40.0,80.0,100.0,200.0,500.0,1000.0],\"y\":[0.00939030303030303,0.017990729783037476,0.027885915492957745,0.03863482688391038,0.0836122,0.09261210317460318,0.17847862903225806,0.45608548707753477,1.199582703777336],\"type\":\"scatter\"},{\"mode\":\"lines+markers\",\"name\":\"RoundRobin\",\"x\":[5.0,10.0,20.0,40.0,80.0,100.0,200.0,500.0,1000.0],\"y\":[0.002872784810126582,0.001305793991416309,0.0018899103139013453,0.0019898850574712646,0.0016164044943820226,0.0011759615384615385,0.0014627296587926507,0.00194868154158215,0.0017141612200435728],\"type\":\"scatter\"}],                        {\"template\":{\"data\":{\"histogram2dcontour\":[{\"type\":\"histogram2dcontour\",\"colorbar\":{\"outlinewidth\":0,\"ticks\":\"\"},\"colorscale\":[[0.0,\"#0d0887\"],[0.1111111111111111,\"#46039f\"],[0.2222222222222222,\"#7201a8\"],[0.3333333333333333,\"#9c179e\"],[0.4444444444444444,\"#bd3786\"],[0.5555555555555556,\"#d8576b\"],[0.6666666666666666,\"#ed7953\"],[0.7777777777777778,\"#fb9f3a\"],[0.8888888888888888,\"#fdca26\"],[1.0,\"#f0f921\"]]}],\"choropleth\":[{\"type\":\"choropleth\",\"colorbar\":{\"outlinewidth\":0,\"ticks\":\"\"}}],\"histogram2d\":[{\"type\":\"histogram2d\",\"colorbar\":{\"outlinewidth\":0,\"ticks\":\"\"},\"colorscale\":[[0.0,\"#0d0887\"],[0.1111111111111111,\"#46039f\"],[0.2222222222222222,\"#7201a8\"],[0.3333333333333333,\"#9c179e\"],[0.4444444444444444,\"#bd3786\"],[0.5555555555555556,\"#d8576b\"],[0.6666666666666666,\"#ed7953\"],[0.7777777777777778,\"#fb9f3a\"],[0.8888888888888888,\"#fdca26\"],[1.0,\"#f0f921\"]]}],\"heatmap\":[{\"type\":\"heatmap\",\"colorbar\":{\"outlinewidth\":0,\"ticks\":\"\"},\"colorscale\":[[0.0,\"#0d0887\"],[0.1111111111111111,\"#46039f\"],[0.2222222222222222,\"#7201a8\"],[0.3333333333333333,\"#9c179e\"],[0.4444444444444444,\"#bd3786\"],[0.5555555555555556,\"#d8576b\"],[0.6666666666666666,\"#ed7953\"],[0.7777777777777778,\"#fb9f3a\"],[0.8888888888888888,\"#fdca26\"],[1.0,\"#f0f921\"]]}],\"heatmapgl\":[{\"type\":\"heatmapgl\",\"colorbar\":{\"outlinewidth\":0,\"ticks\":\"\"},\"colorscale\":[[0.0,\"#0d0887\"],[0.1111111111111111,\"#46039f\"],[0.2222222222222222,\"#7201a8\"],[0.3333333333333333,\"#9c179e\"],[0.4444444444444444,\"#bd3786\"],[0.5555555555555556,\"#d8576b\"],[0.6666666666666666,\"#ed7953\"],[0.7777777777777778,\"#fb9f3a\"],[0.8888888888888888,\"#fdca26\"],[1.0,\"#f0f921\"]]}],\"contourcarpet\":[{\"type\":\"contourcarpet\",\"colorbar\":{\"outlinewidth\":0,\"ticks\":\"\"}}],\"contour\":[{\"type\":\"contour\",\"colorbar\":{\"outlinewidth\":0,\"ticks\":\"\"},\"colorscale\":[[0.0,\"#0d0887\"],[0.1111111111111111,\"#46039f\"],[0.2222222222222222,\"#7201a8\"],[0.3333333333333333,\"#9c179e\"],[0.4444444444444444,\"#bd3786\"],[0.5555555555555556,\"#d8576b\"],[0.6666666666666666,\"#ed7953\"],[0.7777777777777778,\"#fb9f3a\"],[0.8888888888888888,\"#fdca26\"],[1.0,\"#f0f921\"]]}],\"surface\":[{\"type\":\"surface\",\"colorbar\":{\"outlinewidth\":0,\"ticks\":\"\"},\"colorscale\":[[0.0,\"#0d0887\"],[0.1111111111111111,\"#46039f\"],[0.2222222222222222,\"#7201a8\"],[0.3333333333333333,\"#9c179e\"],[0.4444444444444444,\"#bd3786\"],[0.5555555555555556,\"#d8576b\"],[0.6666666666666666,\"#ed7953\"],[0.7777777777777778,\"#fb9f3a\"],[0.8888888888888888,\"#fdca26\"],[1.0,\"#f0f921\"]]}],\"mesh3d\":[{\"type\":\"mesh3d\",\"colorbar\":{\"outlinewidth\":0,\"ticks\":\"\"}}],\"scatter\":[{\"marker\":{\"line\":{\"color\":\"#283442\"}},\"type\":\"scatter\"}],\"parcoords\":[{\"type\":\"parcoords\",\"line\":{\"colorbar\":{\"outlinewidth\":0,\"ticks\":\"\"}}}],\"scatterpolargl\":[{\"type\":\"scatterpolargl\",\"marker\":{\"colorbar\":{\"outlinewidth\":0,\"ticks\":\"\"}}}],\"bar\":[{\"error_x\":{\"color\":\"#f2f5fa\"},\"error_y\":{\"color\":\"#f2f5fa\"},\"marker\":{\"line\":{\"color\":\"rgb(17,17,17)\",\"width\":0.5},\"pattern\":{\"fillmode\":\"overlay\",\"size\":10,\"solidity\":0.2}},\"type\":\"bar\"}],\"scattergeo\":[{\"type\":\"scattergeo\",\"marker\":{\"colorbar\":{\"outlinewidth\":0,\"ticks\":\"\"}}}],\"scatterpolar\":[{\"type\":\"scatterpolar\",\"marker\":{\"colorbar\":{\"outlinewidth\":0,\"ticks\":\"\"}}}],\"histogram\":[{\"marker\":{\"pattern\":{\"fillmode\":\"overlay\",\"size\":10,\"solidity\":0.2}},\"type\":\"histogram\"}],\"scattergl\":[{\"marker\":{\"line\":{\"color\":\"#283442\"}},\"type\":\"scattergl\"}],\"scatter3d\":[{\"type\":\"scatter3d\",\"line\":{\"colorbar\":{\"outlinewidth\":0,\"ticks\":\"\"}},\"marker\":{\"colorbar\":{\"outlinewidth\":0,\"ticks\":\"\"}}}],\"scattermapbox\":[{\"type\":\"scattermapbox\",\"marker\":{\"colorbar\":{\"outlinewidth\":0,\"ticks\":\"\"}}}],\"scatterternary\":[{\"type\":\"scatterternary\",\"marker\":{\"colorbar\":{\"outlinewidth\":0,\"ticks\":\"\"}}}],\"scattercarpet\":[{\"type\":\"scattercarpet\",\"marker\":{\"colorbar\":{\"outlinewidth\":0,\"ticks\":\"\"}}}],\"carpet\":[{\"aaxis\":{\"endlinecolor\":\"#A2B1C6\",\"gridcolor\":\"#506784\",\"linecolor\":\"#506784\",\"minorgridcolor\":\"#506784\",\"startlinecolor\":\"#A2B1C6\"},\"baxis\":{\"endlinecolor\":\"#A2B1C6\",\"gridcolor\":\"#506784\",\"linecolor\":\"#506784\",\"minorgridcolor\":\"#506784\",\"startlinecolor\":\"#A2B1C6\"},\"type\":\"carpet\"}],\"table\":[{\"cells\":{\"fill\":{\"color\":\"#506784\"},\"line\":{\"color\":\"rgb(17,17,17)\"}},\"header\":{\"fill\":{\"color\":\"#2a3f5f\"},\"line\":{\"color\":\"rgb(17,17,17)\"}},\"type\":\"table\"}],\"barpolar\":[{\"marker\":{\"line\":{\"color\":\"rgb(17,17,17)\",\"width\":0.5},\"pattern\":{\"fillmode\":\"overlay\",\"size\":10,\"solidity\":0.2}},\"type\":\"barpolar\"}],\"pie\":[{\"automargin\":true,\"type\":\"pie\"}]},\"layout\":{\"autotypenumbers\":\"strict\",\"colorway\":[\"#636efa\",\"#EF553B\",\"#00cc96\",\"#ab63fa\",\"#FFA15A\",\"#19d3f3\",\"#FF6692\",\"#B6E880\",\"#FF97FF\",\"#FECB52\"],\"font\":{\"color\":\"#f2f5fa\"},\"hovermode\":\"closest\",\"hoverlabel\":{\"align\":\"left\"},\"paper_bgcolor\":\"rgb(17,17,17)\",\"plot_bgcolor\":\"rgb(17,17,17)\",\"polar\":{\"bgcolor\":\"rgb(17,17,17)\",\"angularaxis\":{\"gridcolor\":\"#506784\",\"linecolor\":\"#506784\",\"ticks\":\"\"},\"radialaxis\":{\"gridcolor\":\"#506784\",\"linecolor\":\"#506784\",\"ticks\":\"\"}},\"ternary\":{\"bgcolor\":\"rgb(17,17,17)\",\"aaxis\":{\"gridcolor\":\"#506784\",\"linecolor\":\"#506784\",\"ticks\":\"\"},\"baxis\":{\"gridcolor\":\"#506784\",\"linecolor\":\"#506784\",\"ticks\":\"\"},\"caxis\":{\"gridcolor\":\"#506784\",\"linecolor\":\"#506784\",\"ticks\":\"\"}},\"coloraxis\":{\"colorbar\":{\"outlinewidth\":0,\"ticks\":\"\"}},\"colorscale\":{\"sequential\":[[0.0,\"#0d0887\"],[0.1111111111111111,\"#46039f\"],[0.2222222222222222,\"#7201a8\"],[0.3333333333333333,\"#9c179e\"],[0.4444444444444444,\"#bd3786\"],[0.5555555555555556,\"#d8576b\"],[0.6666666666666666,\"#ed7953\"],[0.7777777777777778,\"#fb9f3a\"],[0.8888888888888888,\"#fdca26\"],[1.0,\"#f0f921\"]],\"sequentialminus\":[[0.0,\"#0d0887\"],[0.1111111111111111,\"#46039f\"],[0.2222222222222222,\"#7201a8\"],[0.3333333333333333,\"#9c179e\"],[0.4444444444444444,\"#bd3786\"],[0.5555555555555556,\"#d8576b\"],[0.6666666666666666,\"#ed7953\"],[0.7777777777777778,\"#fb9f3a\"],[0.8888888888888888,\"#fdca26\"],[1.0,\"#f0f921\"]],\"diverging\":[[0,\"#8e0152\"],[0.1,\"#c51b7d\"],[0.2,\"#de77ae\"],[0.3,\"#f1b6da\"],[0.4,\"#fde0ef\"],[0.5,\"#f7f7f7\"],[0.6,\"#e6f5d0\"],[0.7,\"#b8e186\"],[0.8,\"#7fbc41\"],[0.9,\"#4d9221\"],[1,\"#276419\"]]},\"xaxis\":{\"gridcolor\":\"#283442\",\"linecolor\":\"#506784\",\"ticks\":\"\",\"title\":{\"standoff\":15},\"zerolinecolor\":\"#283442\",\"automargin\":true,\"zerolinewidth\":2},\"yaxis\":{\"gridcolor\":\"#283442\",\"linecolor\":\"#506784\",\"ticks\":\"\",\"title\":{\"standoff\":15},\"zerolinecolor\":\"#283442\",\"automargin\":true,\"zerolinewidth\":2},\"scene\":{\"xaxis\":{\"backgroundcolor\":\"rgb(17,17,17)\",\"gridcolor\":\"#506784\",\"linecolor\":\"#506784\",\"showbackground\":true,\"ticks\":\"\",\"zerolinecolor\":\"#C8D4E3\",\"gridwidth\":2},\"yaxis\":{\"backgroundcolor\":\"rgb(17,17,17)\",\"gridcolor\":\"#506784\",\"linecolor\":\"#506784\",\"showbackground\":true,\"ticks\":\"\",\"zerolinecolor\":\"#C8D4E3\",\"gridwidth\":2},\"zaxis\":{\"backgroundcolor\":\"rgb(17,17,17)\",\"gridcolor\":\"#506784\",\"linecolor\":\"#506784\",\"showbackground\":true,\"ticks\":\"\",\"zerolinecolor\":\"#C8D4E3\",\"gridwidth\":2}},\"shapedefaults\":{\"line\":{\"color\":\"#f2f5fa\"}},\"annotationdefaults\":{\"arrowcolor\":\"#f2f5fa\",\"arrowhead\":0,\"arrowwidth\":1},\"geo\":{\"bgcolor\":\"rgb(17,17,17)\",\"landcolor\":\"rgb(17,17,17)\",\"subunitcolor\":\"#506784\",\"showland\":true,\"showlakes\":true,\"lakecolor\":\"rgb(17,17,17)\"},\"title\":{\"x\":0.05},\"updatemenudefaults\":{\"bgcolor\":\"#506784\",\"borderwidth\":0},\"sliderdefaults\":{\"bgcolor\":\"#C8D4E3\",\"borderwidth\":1,\"bordercolor\":\"rgb(17,17,17)\",\"tickwidth\":0},\"mapbox\":{\"style\":\"dark\"}}},\"title\":{\"text\":\"Average Allocation Time vs Host Count\"},\"xaxis\":{\"title\":{\"text\":\"Host Count\"}},\"yaxis\":{\"title\":{\"text\":\"Average Allocation Time (ms)\"}}},                        {\"responsive\": true}                    ).then(function(){\n                            \nvar gd = document.getElementById('ceeb47da-080b-4a3e-826d-3c584475ce4c');\nvar x = new MutationObserver(function (mutations, observer) {{\n        var display = window.getComputedStyle(gd).display;\n        if (!display || display === 'none') {{\n            console.log([gd, 'removed!']);\n            Plotly.purge(gd);\n            observer.disconnect();\n        }}\n}});\n\n// Listen for the removal of the full notebook cells\nvar notebookContainer = gd.closest('#notebook-container');\nif (notebookContainer) {{\n    x.observe(notebookContainer, {childList: true});\n}}\n\n// Listen for the clearing of the current output cell\nvar outputEl = gd.closest('.output');\nif (outputEl) {{\n    x.observe(outputEl, {childList: true});\n}}\n\n                        })                };                });            </script>        </div>"
     },
     "metadata": {},
     "output_type": "display_data"
    }
   ],
   "source": [
    "fig = go.Figure()\n",
    "\n",
    "for allocation_policy in allocation_policies:\n",
    "    allocation_time_df = pd.DataFrame(columns = ['hostCount', 'avgAllocationTime'])\n",
    "    for host_config in host_configs:\n",
    "        host_count_df = pd.DataFrame()\n",
    "        for random_seed in random_seed_configs:\n",
    "            try:\n",
    "                df = pd.read_csv(f'../results/VmAllocationPolicy{allocation_policy}/'\n",
    "                                 f'VmAllocationPolicy{allocation_policy}_hosts_{host_config}_{random_seed}.csv')\n",
    "                host_count_df = pd.concat([host_count_df, df])\n",
    "            except FileNotFoundError:\n",
    "                print(f'File not found: VmAllocationPolicy{allocation_policy}_hosts_{host_config}_{random_seed}.csv')\n",
    "                continue\n",
    "        if host_count_df.empty:\n",
    "            print(f'WARN: Host count - {host_config} not available for - {allocation_policy} policy')\n",
    "            continue\n",
    "\n",
    "        mask = remove_outliers(host_count_df['allocationTime'], 0.25)\n",
    "        host_count_df = host_count_df[mask]\n",
    "        avg_allocation_time = host_count_df.loc[:, 'allocationTime'].mean()\n",
    "        # row_dict = {'hostCount': host_config, 'avgAllocationTime': avg_allocation_time}\n",
    "        row = [host_config, avg_allocation_time]\n",
    "        # row_df = pd.DataFrame(row_dict, index=[0])\n",
    "        # allocation_time_df = pd.concat([allocation_time_df, row_df], ignore_index=True)\n",
    "        allocation_time_df.loc[len(allocation_time_df)] = row\n",
    "    # print(allocation_time_df)\n",
    "    fig.add_trace(go.Scatter(x=allocation_time_df['hostCount'], y=allocation_time_df['avgAllocationTime'], mode='lines+markers', name=allocation_policy))\n",
    "\n",
    "fig.update_layout(title='Average Allocation Time vs Host Count', xaxis_title='Host Count', yaxis_title='Average Allocation Time (ms)')\n",
    "fig.show()\n"
   ],
   "metadata": {
    "collapsed": false,
    "ExecuteTime": {
     "end_time": "2024-09-22T13:26:03.205294300Z",
     "start_time": "2024-09-22T13:26:02.319969300Z"
    }
   }
  }
 ],
 "metadata": {
  "kernelspec": {
   "display_name": "Python 3",
   "language": "python",
   "name": "python3"
  },
  "language_info": {
   "codemirror_mode": {
    "name": "ipython",
    "version": 2
   },
   "file_extension": ".py",
   "mimetype": "text/x-python",
   "name": "python",
   "nbconvert_exporter": "python",
   "pygments_lexer": "ipython2",
   "version": "2.7.6"
  }
 },
 "nbformat": 4,
 "nbformat_minor": 0
}
